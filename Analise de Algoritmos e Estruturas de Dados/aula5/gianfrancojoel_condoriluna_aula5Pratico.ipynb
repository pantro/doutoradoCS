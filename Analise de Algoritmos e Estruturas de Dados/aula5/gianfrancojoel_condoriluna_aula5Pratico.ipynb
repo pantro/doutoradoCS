{
 "cells": [
  {
   "cell_type": "markdown",
   "metadata": {},
   "source": [
    "# Aula 05 - Exercício prático Ordenação linear\n",
    "\n",
    "Aluno: Gian Franco Joel Condori Luna"
   ]
  },
  {
   "cell_type": "markdown",
   "metadata": {},
   "source": [
    "### 1) (1,0) Gere um vetor aleatório contendo 1000 datas (dia/mês/ano), sendo que dia contém valores de 1 a 31; mês de 1 a 12; e ano de 2000 a 2024. Você pode elaborar a melhor estratégia para armazenar a data (ex: TAD com dia, mês e ano).\n",
    "\n",
    "- Ordene as datas usando radix sort combinado com dois métodos (contagem + um\n",
    "método estável e contagem + um não estável).\n",
    "- Calcule o tempo que o algoritmo levou em cada caso.\n",
    "- Comente o motivo de a ordenação não funcionar em um dos casos."
   ]
  },
  {
   "cell_type": "markdown",
   "metadata": {},
   "source": [
    "### Solução:"
   ]
  },
  {
   "cell_type": "markdown",
   "metadata": {},
   "source": [
    "\n",
    "#### Passos:\n",
    "\n",
    "* Criaremos um vetor de 1000 datas aleatórias (dia/mês/ano).\n",
    "* Usaremos tuplas (dia, mês, ano) para armazenar as datas.\n",
    "* Vamos implementar o Radix Sort, combinado com:\n",
    "  - Um método estável (Ordenação por contagem).\n",
    "  - Um método não estável (QuickSort).\n",
    "* Cálculo do tempo: Usaremos time para medir o tempo de execução."
   ]
  },
  {
   "cell_type": "code",
   "execution_count": 4,
   "metadata": {},
   "outputs": [],
   "source": [
    "# PYTHON version 3.10.12\n",
    "import numpy as np # type: ignore\n",
    "import time\n",
    "\n",
    "# Seed para que os dados sejam sempre os mesmos e o \n",
    "# exercício possa ser replicado.\n",
    "np.random.seed(42)"
   ]
  },
  {
   "cell_type": "code",
   "execution_count": 14,
   "metadata": {},
   "outputs": [
    {
     "name": "stdout",
     "output_type": "stream",
     "text": [
      "Tempo de Radix Sort com método estável (Ordenação por contagem ): 0.004780 segundos\n",
      "Tempo de Radix Sort com método não estável (QuickSort): 0.008690 segundos\n",
      "\n",
      "Comportamento:\n",
      "\n",
      "Método estável\n",
      "[(14, 1, 2000), (26, 1, 2000), (27, 1, 2000), (7, 2, 2000), (11, 2, 2000), (18, 2, 2000), (20, 2, 2000), (23, 2, 2000), (4, 3, 2000), (7, 3, 2000), (16, 3, 2000), (18, 3, 2000), (26, 3, 2000), (27, 3, 2000), (28, 3, 2000), (3, 4, 2000), (30, 4, 2000), (14, 5, 2000), (24, 5, 2000), (29, 5, 2000), (17, 6, 2000), (22, 6, 2000), (27, 6, 2000), (28, 6, 2000), (29, 6, 2000), (5, 7, 2000), (16, 7, 2000), (23, 7, 2000), (1, 8, 2000), (15, 8, 2000), (10, 9, 2000), (10, 9, 2000), (3, 10, 2000), (13, 10, 2000), (6, 11, 2000), (29, 11, 2000), (29, 11, 2000), (3, 1, 2001), (13, 1, 2001), (27, 1, 2001), (5, 2, 2001), (12, 2, 2001), (22, 2, 2001), (7, 3, 2001), (26, 3, 2001), (5, 4, 2001), (22, 4, 2001), (30, 4, 2001), (8, 5, 2001), (11, 5, 2001)]\n",
      "\n",
      "Método não estável\n",
      "[(1, 1, 2008), (1, 1, 2012), (1, 2, 2004), (1, 2, 2009), (1, 2, 2011), (1, 2, 2018), (1, 3, 2017), (1, 4, 2011), (1, 4, 2014), (1, 5, 2003), (1, 5, 2015), (1, 5, 2018), (1, 6, 2011), (1, 7, 2010), (1, 7, 2023), (1, 8, 2000), (1, 8, 2019), (1, 9, 2009), (1, 9, 2012), (1, 9, 2020), (1, 9, 2023), (1, 10, 2007), (1, 10, 2017), (1, 10, 2020), (1, 10, 2023), (2, 1, 2004), (2, 2, 2008), (2, 2, 2010), (2, 3, 2006), (2, 3, 2015), (2, 3, 2017), (2, 4, 2005), (2, 5, 2017), (2, 5, 2017), (2, 5, 2022), (2, 6, 2005), (2, 6, 2013), (2, 6, 2016), (2, 7, 2005), (2, 7, 2006), (2, 7, 2007), (2, 7, 2008), (2, 7, 2010), (2, 7, 2012), (2, 7, 2015), (2, 8, 2001), (2, 8, 2004), (2, 8, 2014), (2, 9, 2023), (2, 10, 2020)]\n"
     ]
    }
   ],
   "source": [
    "# Função para gerar 1000 datas aleatórias\n",
    "def gerar_datas(n=1000):\n",
    "    datas = []\n",
    "    for _ in range(n):\n",
    "        dia = np.random.randint(1, 31)\n",
    "        mes = np.random.randint(1, 12)\n",
    "        ano = np.random.randint(2000, 2024)\n",
    "        datas.append((dia, mes, ano))\n",
    "    return datas\n",
    "\n",
    "# Função estável (Ordenação por contagem)\n",
    "# Fonte: CHATGPT 3.5\n",
    "def counting_sort(arr, index):\n",
    "    max_val = max(arr, key=lambda x: x[index])[index]\n",
    "    min_val = min(arr, key=lambda x: x[index])[index]\n",
    "    range_of_values = max_val - min_val + 1\n",
    "\n",
    "    count = [0] * range_of_values\n",
    "    output = [0] * len(arr)\n",
    "\n",
    "    for i in arr:\n",
    "        count[i[index] - min_val] += 1\n",
    "\n",
    "    for i in range(1, len(count)):\n",
    "        count[i] += count[i - 1]\n",
    "\n",
    "    for i in range(len(arr) - 1, -1, -1):\n",
    "        output[count[arr[i][index] - min_val] - 1] = arr[i]\n",
    "        count[arr[i][index] - min_val] -= 1\n",
    "\n",
    "    return output\n",
    "\n",
    "# Função não estável (QuickSort)\n",
    "# Fonte: CHATGPT 3.5\n",
    "def quick_sort(arr):\n",
    "    if len(arr) <= 1:\n",
    "        return arr\n",
    "    else:\n",
    "        pivot = arr[len(arr) // 2]\n",
    "        left = [x for x in arr if x < pivot]\n",
    "        middle = [x for x in arr if x == pivot]\n",
    "        right = [x for x in arr if x > pivot]\n",
    "        return quick_sort(left) + middle + quick_sort(right)\n",
    "\n",
    "# Radix Sort com Counting Sort (estável)\n",
    "def radix_sort_estavel(arr):\n",
    "    # Ordenar por dia, depois por mês, depois por ano\n",
    "    arr = counting_sort(arr, 0)  # Dia\n",
    "    arr = counting_sort(arr, 1)  # Mês\n",
    "    arr = counting_sort(arr, 2)  # Ano\n",
    "    return arr\n",
    "\n",
    "# Radix Sort com Quick Sort (não estável)\n",
    "def radix_sort_nao_estavel(arr):\n",
    "    # Ordenar por dia, depois por mês, depois por ano\n",
    "    arr = quick_sort(arr)  # Quick Sort diretamente\n",
    "    return arr\n",
    "\n",
    "# Função principal\n",
    "def main():\n",
    "    datas = gerar_datas()\n",
    "\n",
    "    # Ordenar com Radix Sort + Ordenação por contagem (estável)\n",
    "    inicio_estavel = time.time()\n",
    "    ordenado_estavel = radix_sort_estavel(datas.copy())\n",
    "    fim_estavel = time.time()\n",
    "    tempo_estavel = fim_estavel - inicio_estavel\n",
    "\n",
    "    # Ordenar com Radix Sort + Quick Sort (não estável)\n",
    "    inicio_nao_estavel = time.time()\n",
    "    ordenado_nao_estavel = radix_sort_nao_estavel(datas.copy())\n",
    "    fim_nao_estavel = time.time()\n",
    "    tempo_nao_estavel = fim_nao_estavel - inicio_nao_estavel\n",
    "\n",
    "    # Exibir os tempos\n",
    "    print(f\"Tempo de Radix Sort com método estável (Ordenação por contagem ): {tempo_estavel:.6f} segundos\")\n",
    "    print(f\"Tempo de Radix Sort com método não estável (QuickSort): {tempo_nao_estavel:.6f} segundos\")\n",
    "\n",
    "    # Verificação do comportamento\n",
    "    print(\"\\nComportamento:\")\n",
    "    print(\"\")\n",
    "    print(\"Método estável\")\n",
    "    print(ordenado_estavel[0:50])\n",
    "    print(\"\")\n",
    "    print(\"Método não estável\")\n",
    "    print(ordenado_nao_estavel[0:50])\n",
    "\n",
    "if __name__ == \"__main__\":\n",
    "    main()\n"
   ]
  },
  {
   "cell_type": "markdown",
   "metadata": {},
   "source": [
    "### Comentário sobre porque a ordenação não funcionar em um dos casos:\n",
    "\n",
    "* O método estável ORDENOU corretamente as datas.\n",
    "\n",
    "* O método não estável NÃO ORDENOU corretamente as datas.\n",
    "\n",
    "* A razão pela qual o Radix Sort com Quick Sort pode falhar é porque Quick Sort não preserva a ordem relativa dos elementos iguais, o que pode quebrar a ordenação de datas que dependem da estabilidade (como quando dias ou meses são iguais, mas queremos preservar a ordem entre os anos)."
   ]
  }
 ],
 "metadata": {
  "kernelspec": {
   "display_name": "Python 3",
   "language": "python",
   "name": "python3"
  },
  "language_info": {
   "codemirror_mode": {
    "name": "ipython",
    "version": 3
   },
   "file_extension": ".py",
   "mimetype": "text/x-python",
   "name": "python",
   "nbconvert_exporter": "python",
   "pygments_lexer": "ipython3",
   "version": "3.10.12"
  }
 },
 "nbformat": 4,
 "nbformat_minor": 2
}

{
 "cells": [
  {
   "cell_type": "markdown",
   "metadata": {},
   "source": [
    "# Aula 10 - Exercício prático Tabela Hash\n",
    "\n",
    "Aluno: Gian Franco Joel Condori Luna"
   ]
  },
  {
   "cell_type": "markdown",
   "metadata": {},
   "source": [
    "1. (1,0) Implemente um algoritmo para função Hash que:\n",
    "    \n",
    "    a) Faz resolução de colisões por encadeamento com a função hash da divisão.\n",
    "    \n",
    "    b) Faz resolução de colisões por endereçamento aberto usando sondagem linear.\n",
    "    \n",
    "    c) Insira 100.000 elementos gerados aleatoriamente no intervalo [0-100.000] em uma tabela hash com m = 50.000 posições no encadeamento e m = 100.000 no endereçamento aberto e compute o tempo de inserção em cada caso. Depois pesquise o elemento 10.000:"
   ]
  },
  {
   "cell_type": "code",
   "execution_count": 1,
   "metadata": {},
   "outputs": [],
   "source": [
    "# Python 3.12.3\n",
    "# Fonte: ChatGPT"
   ]
  },
  {
   "cell_type": "code",
   "execution_count": 4,
   "metadata": {},
   "outputs": [],
   "source": [
    "import random\n",
    "import time\n",
    "\n",
    "# Definindo a seed para garantir que os números aleatórios sejam sempre os mesmos\n",
    "random.seed(42)\n",
    "\n",
    "# Tamanho da tabela hash\n",
    "m_chain = 50000\n",
    "m_open_addressing = 100000\n",
    "\n",
    "# Gerar 100.000 elementos aleatórios no intervalo [0, 100.000]\n",
    "elementos = [random.randint(0, 100000) for _ in range(100000)]\n",
    "\n",
    "# Função Hash por divisão\n",
    "def hash_divisao(key, m):\n",
    "    return key % m\n",
    "\n",
    "# Encadeamento (Hash com listas ligadas)\n",
    "class HashTableEncadeamento:\n",
    "    def __init__(self, m):\n",
    "        self.m = m\n",
    "        self.table = [[] for _ in range(m)] # fonte chatgpt\n",
    "\n",
    "    def inserir(self, key):\n",
    "        index = hash_divisao(key, self.m)\n",
    "        if key not in self.table[index]:  # Evitar duplicatas\n",
    "            self.table[index].append(key)\n",
    "\n",
    "    def buscar(self, key):\n",
    "        index = hash_divisao(key, self.m)\n",
    "        return key in self.table[index]\n",
    "\n",
    "# Endereçamento aberto com sondagem linear\n",
    "class HashTableEnderecamentoAberto:\n",
    "    def __init__(self, m):\n",
    "        self.m = m\n",
    "        self.table = [None] * m # fonte chatgpt\n",
    "\n",
    "    def inserir(self, key):\n",
    "        index = hash_divisao(key, self.m)\n",
    "        original_index = index\n",
    "        while self.table[index] is not None:\n",
    "            index = (index + 1) % self.m  # Sondagem linear\n",
    "            if index == original_index:  # A tabela está cheia\n",
    "                raise Exception(\"Tabela Hash cheia\")\n",
    "        self.table[index] = key\n",
    "\n",
    "    def buscar(self, key):\n",
    "        index = hash_divisao(key, self.m)\n",
    "        original_index = index\n",
    "        while self.table[index] is not None:\n",
    "            if self.table[index] == key:\n",
    "                return True\n",
    "            index = (index + 1) % self.m  # Sondagem linear\n",
    "            if index == original_index:  # Volta ao início\n",
    "                return False\n",
    "        return False"
   ]
  },
  {
   "cell_type": "code",
   "execution_count": 5,
   "metadata": {},
   "outputs": [
    {
     "name": "stdout",
     "output_type": "stream",
     "text": [
      "Tempo de inserção (Encadeamento): 0.0372 segundos\n",
      "Tempo de inserção (Endereçamento Aberto): 2.1680 segundos\n",
      "Tempo de busca (Encadeamento): 0.000038 segundos\n",
      "Tempo de busca (Endereçamento Aberto): 0.000032 segundos\n",
      "Elemento 10.000 encontrado (Encadeamento): Sim\n",
      "Elemento 10.000 encontrado (Endereçamento Aberto): Sim\n"
     ]
    }
   ],
   "source": [
    "\n",
    "# Inserção e medição de tempo - Encadeamento\n",
    "hash_encadeamento = HashTableEncadeamento(m_chain)\n",
    "inicio_encadeamento = time.time()\n",
    "for elemento in elementos:\n",
    "    hash_encadeamento.inserir(elemento)\n",
    "tempo_encadeamento = time.time() - inicio_encadeamento\n",
    "\n",
    "# Inserção e medição de tempo - Endereçamento Aberto\n",
    "hash_enderecamento = HashTableEnderecamentoAberto(m_open_addressing)\n",
    "inicio_enderecamento = time.time()\n",
    "for elemento in elementos:\n",
    "    hash_enderecamento.inserir(elemento)\n",
    "tempo_enderecamento = time.time() - inicio_enderecamento\n",
    "\n",
    "# Pesquisa do elemento 10.000 em cada caso e medição de tempo de busca\n",
    "elemento_pesquisa = 10000\n",
    "\n",
    "inicio_busca_encadeamento = time.time()\n",
    "encontrado_encadeamento = hash_encadeamento.buscar(elemento_pesquisa)\n",
    "tempo_busca_encadeamento = time.time() - inicio_busca_encadeamento\n",
    "\n",
    "inicio_busca_enderecamento = time.time()\n",
    "encontrado_enderecamento = hash_enderecamento.buscar(elemento_pesquisa)\n",
    "tempo_busca_enderecamento = time.time() - inicio_busca_enderecamento\n",
    "\n",
    "# Resultados\n",
    "print(f\"Tempo de inserção (Encadeamento): {tempo_encadeamento:.4f} segundos\")\n",
    "print(f\"Tempo de inserção (Endereçamento Aberto): {tempo_enderecamento:.4f} segundos\")\n",
    "print(f\"Tempo de busca (Encadeamento): {tempo_busca_encadeamento:.6f} segundos\")\n",
    "print(f\"Tempo de busca (Endereçamento Aberto): {tempo_busca_enderecamento:.6f} segundos\")\n",
    "print(f\"Elemento 10.000 encontrado (Encadeamento): {'Sim' if encontrado_encadeamento else 'Não'}\")\n",
    "print(f\"Elemento 10.000 encontrado (Endereçamento Aberto): {'Sim' if encontrado_enderecamento else 'Não'}\")"
   ]
  }
 ],
 "metadata": {
  "kernelspec": {
   "display_name": "Python (myenv)",
   "language": "python",
   "name": "myenv"
  },
  "language_info": {
   "codemirror_mode": {
    "name": "ipython",
    "version": 3
   },
   "file_extension": ".py",
   "mimetype": "text/x-python",
   "name": "python",
   "nbconvert_exporter": "python",
   "pygments_lexer": "ipython3",
   "version": "3.12.3"
  }
 },
 "nbformat": 4,
 "nbformat_minor": 2
}

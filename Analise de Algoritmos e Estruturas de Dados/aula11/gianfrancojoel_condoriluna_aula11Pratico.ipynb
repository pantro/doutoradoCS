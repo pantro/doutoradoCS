{
 "cells": [
  {
   "cell_type": "markdown",
   "metadata": {},
   "source": [
    "# Aula 11 - Exercício prático Grafos\n",
    "\n",
    "Aluno: Gian Franco Joel Condori Luna"
   ]
  },
  {
   "cell_type": "markdown",
   "metadata": {},
   "source": [
    "(1,0) Submeta no Beecrowd o problema 1621 Labyrinth:\n",
    "\n",
    "https://www.beecrowd.com.br/judge/pt/problems/view/1621?origem=1"
   ]
  },
  {
   "cell_type": "code",
   "execution_count": null,
   "metadata": {},
   "outputs": [],
   "source": [
    "# DADOS DE TESTE\n",
    "'''\n",
    "N = 5\n",
    "M = 5\n",
    "\n",
    "matriz_1 = [\n",
    "    [\".\", \"#\", \".\", \".\", \".\"],\n",
    "    [\".\", \".\", \".\", \"#\", \"#\"],\n",
    "    [\".\", \"#\", \".\", \".\", \"#\"],\n",
    "    [\".\", \"#\", \"#\", \".\", \".\"],\n",
    "    [\"#\", \"#\", \"#\", \"#\", \"#\"],\n",
    "]\n",
    "\n",
    "matriz_2 = [\n",
    "    [\".\", \".\", \".\", \".\", \".\"],\n",
    "    [\"#\", \"#\", \"#\", \"#\", \".\"],\n",
    "    [\".\", \".\", \".\", \".\", \".\"],\n",
    "    [\".\", \"#\", \"#\", \"#\", \"#\"],\n",
    "    [\".\", \".\", \".\", \".\", \".\"],\n",
    "]\n",
    "\n",
    "print(matriz[0][1])\n",
    "'''"
   ]
  },
  {
   "cell_type": "code",
   "execution_count": 1,
   "metadata": {},
   "outputs": [],
   "source": [
    "# Definição de nó de árvore\n",
    "class TreeNode:\n",
    "    def __init__(self, value=[], father= None, left=None, right=None, center=None):\n",
    "      self.value = value\n",
    "      self.father = father\n",
    "      self.left = left\n",
    "      self.right = right\n",
    "      self.center = center\n",
    "    \n",
    "    def print(self):\n",
    "      print(f\"{self.value}\")\n",
    "\n",
    "    def getValue(self):\n",
    "       return self.value\n",
    "    \n",
    "    def getchildren(self):\n",
    "      if self.left:\n",
    "        print(f\"{self.left.value}\")\n",
    "      if self.right:\n",
    "        print(f\"{self.right.value}\")\n",
    "      if self.center:\n",
    "        print(f\"{self.center.value}\")"
   ]
  },
  {
   "cell_type": "code",
   "execution_count": 2,
   "metadata": {},
   "outputs": [],
   "source": [
    "# Função para calcular a profundidade da árvore\n",
    "def calculate_depth(root):\n",
    "    if root is None:\n",
    "        return 0\n",
    "    left_depth = calculate_depth(root.left)\n",
    "    right_depth = calculate_depth(root.right)\n",
    "    center_depth = calculate_depth(root.center)\n",
    "    return max(left_depth, right_depth, center_depth) + 1"
   ]
  },
  {
   "cell_type": "code",
   "execution_count": 3,
   "metadata": {},
   "outputs": [],
   "source": [
    "# Função para procurar possíveis inícios nas bordas da matriz\n",
    "def searchOptions(matriz, m_i, m_j, m_N, m_M):\n",
    "  list_option = []\n",
    "  for i in range(m_i,m_N):\n",
    "    if i == m_i or i == m_N-1:\n",
    "      for j in range(m_j, m_M):\n",
    "        if matriz[i][j] == \".\":\n",
    "          list_option.append((i,j))\n",
    "    else:\n",
    "      if matriz[i][m_i] == \".\":\n",
    "        list_option.append((i,m_i))\n",
    "      if matriz[i][m_M-1] == \".\":\n",
    "        list_option.append((i,m_M-1))\n",
    "  return list_option"
   ]
  },
  {
   "cell_type": "code",
   "execution_count": 4,
   "metadata": {},
   "outputs": [],
   "source": [
    "# Função que me ajudará a obter caminhos possíveis do nó onde estou\n",
    "def routeOption(matriz, p_tree, m_N, m_M):\n",
    "  i,j = p_tree.getValue()\n",
    "  routes = [(i-1,j),(i,j+1),(i+1,j),(i,j-1)]# Os 4 caminhos possíveis\n",
    "  \n",
    "  children = []\n",
    "  for row, col in routes:\n",
    "    if row >= 0 and col >= 0 and row<m_N and col<m_M and matriz[row][col] == \".\" and ( p_tree.father is None or  p_tree.father.getValue() != (row, col) ):\n",
    "      children.append((row, col))\n",
    "\n",
    "  return children"
   ]
  },
  {
   "cell_type": "code",
   "execution_count": 5,
   "metadata": {},
   "outputs": [],
   "source": [
    "# Função que me ajudará a inserir os filhos em cada nó\n",
    "def insertChild(matriz, p_tree):\n",
    "  children = routeOption(matriz, p_tree, N, M)\n",
    "\n",
    "  # Perguntando se tem filhos\n",
    "  if children:\n",
    "    if len(children) == 1:\n",
    "      p_tree.left = TreeNode(value=children[0], father=p_tree )\n",
    "      insertChild(matriz, p_tree.left)\n",
    "    elif len(children) == 2:\n",
    "      p_tree.left = TreeNode(value=children[0], father=p_tree)\n",
    "      p_tree.right = TreeNode(value=children[1], father=p_tree)\n",
    "      insertChild(matriz, p_tree.left)\n",
    "      insertChild(matriz, p_tree.right)\n",
    "    else:\n",
    "      p_tree.left = TreeNode(value=children[0], father=p_tree)\n",
    "      p_tree.right = TreeNode(value=children[1], father=p_tree)\n",
    "      p_tree.center = TreeNode(value=children[2], father=p_tree)\n",
    "      insertChild(matriz, p_tree.left)\n",
    "      insertChild(matriz, p_tree.right)\n",
    "      insertChild(matriz, p_tree.center)"
   ]
  },
  {
   "cell_type": "code",
   "execution_count": 8,
   "metadata": {},
   "outputs": [
    {
     "name": "stdout",
     "output_type": "stream",
     "text": [
      "8\n",
      "16\n"
     ]
    }
   ],
   "source": [
    "# Função principal\n",
    "#if __name__ == \"__main__\":\n",
    "while True:\n",
    "  # Leia as dimensões da matriz\n",
    "  N, M = map(int, input().split())\n",
    "  \n",
    "  # Se as dimensões forem 0, interrompa o loop\n",
    "  if N == 0 and M == 0:\n",
    "      break\n",
    "  \n",
    "  # Valide se n e m estão dentro do intervalo permitido\n",
    "  if not (5 <= N <= 500 and 5 <= M <= 500):\n",
    "    print(\"As dimensões devem estar no intervalo 5 ≤ N, M ≤ 500. Tente novamente.\")\n",
    "    continue  # Continue com o próximo ciclo do loop\n",
    "\n",
    "  # Inicializar a matriz\n",
    "  matriz = []\n",
    "  \n",
    "  # Leia as linhas da matriz\n",
    "  for _ in range(N):\n",
    "    fila = input().strip()  # Leia uma linha e remova espaços extras\n",
    "    matriz.append(fila)     # Adicione a linha à matriz\n",
    "\n",
    "  # NOTA: Vamos trabalhar partindo do pressuposto de que sempre há um ponto \".\" na borda.\n",
    "  #list_option = searchOptions(matriz_2,0+1+1,0+1+1,N-1-1,M-1-1)\n",
    "  list_option = searchOptions(matriz,0,0,N,M)\n",
    "  list_option\n",
    "\n",
    "  deep_max = 0\n",
    "  if list_option:\n",
    "    for option in list_option:\n",
    "      # Criamos o primeiro nó da árvore\n",
    "      tree = TreeNode(option)\n",
    "      insertChild(matriz, tree)\n",
    "      deep = calculate_depth(tree)\n",
    "      if deep > deep_max:\n",
    "        deep_max = deep\n",
    "  print(deep_max-1)"
   ]
  }
 ],
 "metadata": {
  "kernelspec": {
   "display_name": "Python (myenv)",
   "language": "python",
   "name": "myenv"
  },
  "language_info": {
   "codemirror_mode": {
    "name": "ipython",
    "version": 3
   },
   "file_extension": ".py",
   "mimetype": "text/x-python",
   "name": "python",
   "nbconvert_exporter": "python",
   "pygments_lexer": "ipython3",
   "version": "3.12.3"
  }
 },
 "nbformat": 4,
 "nbformat_minor": 2
}

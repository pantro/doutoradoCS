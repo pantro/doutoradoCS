{
 "cells": [
  {
   "cell_type": "markdown",
   "metadata": {},
   "source": [
    "# Class 01 - Practical exercise complexity analysis\n",
    "GITHUB: https://github.com/pantro/doutoradoCS/blob/main/Analise%20de%20Algoritmos%20e%20Estruturas%20de%20Dados/aula1-pratico.ipynb\n",
    "\n",
    "### 1) Propose a recursive algorithm to determine whether a number is prime or not. Propose an iterative algorithm for the same purpose. \n",
    "* Execute both functions to find the largest prime number in a random vector of 100,000 elements (use the same vector in both codes). \n",
    "* Check which of the two executed faster (use a time() function). \n",
    "* Perform the time complexity analysis of both algorithms."
   ]
  },
  {
   "cell_type": "markdown",
   "metadata": {},
   "source": [
    "## SOLUTION\n",
    "\n",
    "For a number to be prime it must meet the following requirements:\n",
    "* Numbers less than 2 are not prime.\n",
    "* The number 2 is the only even prime number.\n",
    "* If a divisor is found that divides the number exactly (without a remainder), the algorithm must stop and conclude that the number is not prime.\n",
    "* The number must be divisible only by 1 and itself. This involves checking whether the number is divisible by any integer less than itself.\n",
    "\n",
    "### Optimize the algorithm\n",
    "* In order to optimize the search for prime numbers according to ChatGPT, we have to limit the checks to the square root of a number.\n",
    "\n",
    "Explanation:\n",
    "* If a number 𝑛 has a divisor 𝑑, If both 𝑑 and 𝑚 were greater than the square root of 𝑛, then 𝑑×𝑚 would be greater than 𝑛, which is a contradiction. This implies that if 𝑛 has divisors other than 1 and itself, then at least one of those divisors must be less than or equal to the square root of 𝑛.\n",
    "\n",
    "Example: Suppose you want to check if the number 29 is prime.\n",
    "* The square root of 29 is approximately 5.39.\n",
    "* To determine if 29 is prime, you only need to check if it is divisible by integers less than or equal to 5 (i.e., 2, 3, and 5).\n",
    "* If 29 is not divisible by any of these numbers, you can be sure that 29 has no additional divisors and is therefore prime."
   ]
  },
  {
   "cell_type": "markdown",
   "metadata": {},
   "source": [
    "### Function Iterative"
   ]
  },
  {
   "cell_type": "code",
   "execution_count": 8,
   "metadata": {},
   "outputs": [],
   "source": [
    "def es_primo_iterativo(n):\n",
    "    if n <= 1:\n",
    "        return False\n",
    "    if n == 2:\n",
    "        return True\n",
    "    if n % 2 == 0:\n",
    "        return False\n",
    "    # Check if the number 𝑛 has any divisors between 3 and the square root of 𝑛, checking only the odd numbers.\n",
    "    for i in range(3, int(n**0.5) + 1, 2):\n",
    "        if n % i == 0:\n",
    "            return False\n",
    "    return True"
   ]
  },
  {
   "cell_type": "markdown",
   "metadata": {},
   "source": [
    "### Complexity analysis of the function \"es_primo_iterativo\"\n",
    "* if n <= 1 <code>-></code> 𝑂(1)\n",
    "* if n == 2 <code>-></code>𝑂(1)\n",
    "* if n % 2 == 0 <code>-></code> 𝑂(1)\n",
    "* for i in range(3, int(n**0.5) + 1, 2)<code>-></code>$\\cfrac{\\sqrt{n}}{2}-2 = 𝑂(\\sqrt{n})$\n",
    "* if n % i == 0 <code>-></code> 𝑂(1)\n",
    "\n",
    "Solution: The worst case time complexity is: 𝑂($\\sqrt{n}$)\n"
   ]
  },
  {
   "cell_type": "markdown",
   "metadata": {},
   "source": [
    "### Function Recursive"
   ]
  },
  {
   "cell_type": "code",
   "execution_count": 9,
   "metadata": {},
   "outputs": [],
   "source": [
    "def es_primo_recursivo(n, divisor=3):\n",
    "    if n <= 1:\n",
    "        return False\n",
    "    if n == 2:\n",
    "        return True\n",
    "    if n % 2 == 0:\n",
    "        return False\n",
    "    if divisor > int(n**0.5):\n",
    "        return True\n",
    "    if n % divisor == 0:\n",
    "        return False\n",
    "    return es_primo_recursivo(n, divisor + 2)"
   ]
  },
  {
   "cell_type": "markdown",
   "metadata": {},
   "source": [
    "### Complexity analysis of the function \"es_primo_recursivo\"\n",
    "* if n <= 1 <code>-></code> 𝑂(1)\n",
    "* if n == 2 <code>-></code>𝑂(1)\n",
    "* if n % 2 == 0 <code>-></code> 𝑂(1)\n",
    "* divisor > int(n**0.5) <code>-></code> 𝑂(1)\n",
    "* if n % divisor == 0 <code>-></code> 𝑂(1)\n",
    "* es_primo_recursivo(n, divisor + 2)<code>-></code>$\\cfrac{\\sqrt{n}}{2}-2 = 𝑂(\\sqrt{n})$\n",
    "\n",
    "Solution: The worst case time complexity is: 𝑂($\\sqrt{n}$)"
   ]
  },
  {
   "cell_type": "markdown",
   "metadata": {},
   "source": [
    "## Test\n",
    "* Run both functions to find the largest prime number in a random vector of 100,000 elements (use the same vector in both codes)"
   ]
  },
  {
   "cell_type": "code",
   "execution_count": 13,
   "metadata": {},
   "outputs": [
    {
     "name": "stdout",
     "output_type": "stream",
     "text": [
      "Size vector:  100000\n"
     ]
    },
    {
     "data": {
      "text/plain": [
       "array([15797,   862, 76822, 54888,  6267, 82388, 37196, 87500, 44133,\n",
       "       60265])"
      ]
     },
     "execution_count": 13,
     "metadata": {},
     "output_type": "execute_result"
    }
   ],
   "source": [
    "# Library\n",
    "import numpy as np\n",
    "from datetime import datetime\n",
    "# Semilla\n",
    "np.random.seed(42)\n",
    "\n",
    "# Create a vector with 100,000 random elements in the range 2 to 100,000\n",
    "vector_aleatorio = np.random.randint(2, 100001, size=100000)\n",
    "\n",
    "print(\"Size vector: \", len(vector_aleatorio))\n",
    "vector_aleatorio[:10] "
   ]
  },
  {
   "cell_type": "markdown",
   "metadata": {},
   "source": [
    "### Iteration"
   ]
  },
  {
   "cell_type": "code",
   "execution_count": 21,
   "metadata": {},
   "outputs": [
    {
     "name": "stdout",
     "output_type": "stream",
     "text": [
      "The largest prime number is: 99989\n",
      "Time:  0:00:00.292513\n"
     ]
    }
   ],
   "source": [
    "# Initial time\n",
    "tiempo_inicial = datetime.now()\n",
    "# Create vector of prime numbers\n",
    "vector_primos = []\n",
    "\n",
    "for n in vector_aleatorio:\n",
    "    if (es_primo_iterativo(n)):\n",
    "        vector_primos.append(n)\n",
    "\n",
    "# Get the largest prime\n",
    "if vector_primos:\n",
    "    primo_mayor = max(vector_primos)\n",
    "    # Print the largest prime number\n",
    "    print(\"The largest prime number is:\", primo_mayor)\n",
    "else:\n",
    "    print(\"There are no prime numbers in the vector\")\n",
    "\n",
    "# End time\n",
    "tiempo_final = datetime.now()\n",
    "diferencia_tiempo = tiempo_final - tiempo_inicial\n",
    "print(\"Time: \", diferencia_tiempo)\n"
   ]
  },
  {
   "cell_type": "markdown",
   "metadata": {},
   "source": [
    "### Recursive"
   ]
  },
  {
   "cell_type": "code",
   "execution_count": 15,
   "metadata": {},
   "outputs": [
    {
     "name": "stdout",
     "output_type": "stream",
     "text": [
      "The largest prime number is: 99989\n",
      "Time:  0:00:03.434702\n"
     ]
    }
   ],
   "source": [
    "# Initial time\n",
    "tiempo_inicial = datetime.now()\n",
    "# Create vector of prime numbers\n",
    "vector_primos = []\n",
    "\n",
    "for n in vector_aleatorio:\n",
    "    if (es_primo_recursivo(n)):\n",
    "        vector_primos.append(n)\n",
    "\n",
    "# Get the largest prime\n",
    "if vector_primos:\n",
    "    primo_mayor = max(vector_primos)\n",
    "    # Print the largest prime number\n",
    "    print(\"The largest prime number is:\", primo_mayor)\n",
    "else:\n",
    "    print(\"There are no prime numbers in the vector\")\n",
    "\n",
    "# End time\n",
    "tiempo_final = datetime.now()\n",
    "diferencia_tiempo = tiempo_final - tiempo_inicial\n",
    "print(\"Time: \", diferencia_tiempo)"
   ]
  },
  {
   "cell_type": "markdown",
   "metadata": {},
   "source": [
    "## Conclusions\n",
    "* We can see that both the iterative and recursive code have the same time complexity.\n",
    "* When the test is run with 100,000 elements, the iterative algorithm is much faster than the recursive one. This may be because the recursive algorithm calls the entire function again and performs the IF comparisons again on each entry.\n",
    "* Even though the iterative algorithm and the recursive algorithm have the same time complexity, the iterative algorithm is approximately 11 times faster than the recursive algorithm. This tells us that having the same time complexity does not necessarily ensure that they are close real times, but that the complexity value is a reference value."
   ]
  }
 ],
 "metadata": {
  "kernelspec": {
   "display_name": "Python 3",
   "language": "python",
   "name": "python3"
  },
  "language_info": {
   "codemirror_mode": {
    "name": "ipython",
    "version": 3
   },
   "file_extension": ".py",
   "mimetype": "text/x-python",
   "name": "python",
   "nbconvert_exporter": "python",
   "pygments_lexer": "ipython3",
   "version": "3.10.12"
  }
 },
 "nbformat": 4,
 "nbformat_minor": 2
}

{
 "cells": [
  {
   "cell_type": "markdown",
   "metadata": {},
   "source": [
    "# Aula 04 - Exercício prático Ordenação n log n"
   ]
  },
  {
   "cell_type": "markdown",
   "metadata": {},
   "source": [
    "### 1) Execute os códigos do Shellsort, Heapsort, Quicksort e Mergesort num vetor de 100.000 elementos preenchidos aleatoriamente, em ordem crescente e decrescente e mostre o tempo de execução que cada algoritmo levou para ordenar o vetor."
   ]
  },
  {
   "cell_type": "markdown",
   "metadata": {},
   "source": [
    "#### Solução:"
   ]
  },
  {
   "cell_type": "code",
   "execution_count": 16,
   "metadata": {},
   "outputs": [
    {
     "name": "stdout",
     "output_type": "stream",
     "text": [
      "Arreglo ordenado: [1, 2, 7, 13, 22, 35]\n"
     ]
    }
   ],
   "source": [
    "# SHELLSORT\n",
    "# Fonte: ChatGPT\n",
    "\n",
    "def generate_gaps(n):\n",
    "    gaps = []\n",
    "    k = 1\n",
    "    gap = 1\n",
    "\n",
    "    # Generar gaps usando la fórmula: gap = (3^k - 1) / 2\n",
    "    while gap < n:\n",
    "        gaps.append(gap)\n",
    "        k += 1\n",
    "        gap = (3**k - 1) // 2\n",
    "\n",
    "    # Retornar la lista de gaps en orden descendente\n",
    "    return gaps[::-1]\n",
    "\n",
    "# Generar la lista de gaps para 100,000 elementos\n",
    "#n = 100000\n",
    "#gaps = generate_gaps(n)\n",
    "\n",
    "def shell_sort(arr, gaps):\n",
    "    n = len(arr)\n",
    "\n",
    "    # Itera sobre cada valor de h (gap)\n",
    "    for gap in gaps:\n",
    "        for i in range(gap, n):\n",
    "            temp = arr[i]\n",
    "            j = i\n",
    "            # Realiza la comparación y el intercambio dentro del gap\n",
    "            while j >= gap and arr[j - gap] > temp:\n",
    "                arr[j] = arr[j - gap]\n",
    "                j -= gap\n",
    "            arr[j] = temp\n",
    "\n",
    "    return arr\n",
    "\n",
    "# Ejemplo de uso\n",
    "arr = [22, 35, 2, 1, 13, 7]\n",
    "gaps = generate_gaps(len(arr))\n",
    "sorted_arr = shell_sort(arr, gaps)\n",
    "print(\"Arreglo ordenado:\", sorted_arr)"
   ]
  },
  {
   "cell_type": "code",
   "execution_count": 8,
   "metadata": {},
   "outputs": [
    {
     "name": "stdout",
     "output_type": "stream",
     "text": [
      "Arreglo ordenado: [1, 1, 2, 3, 6, 8, 10]\n"
     ]
    }
   ],
   "source": [
    "# QUICKSORT\n",
    "# Fonte: ChatGPT\n",
    "\n",
    "def quicksort(arr, low, high):\n",
    "    if low < high:\n",
    "        # Particionamos el array y obtenemos el índice del pivote\n",
    "        pivot_index = partition(arr, low, high)\n",
    "        \n",
    "        # Ordenamos las dos mitades del array de forma recursiva\n",
    "        quicksort(arr, low, pivot_index - 1)\n",
    "        quicksort(arr, pivot_index + 1, high)\n",
    "\n",
    "def partition(arr, low, high):\n",
    "    pivot = arr[low]  # Elegimos el primer elemento como pivote\n",
    "    i = low + 1  # Índice para recorrer desde la izquierda\n",
    "    j = high  # Índice para recorrer desde la derecha\n",
    "\n",
    "    while True:\n",
    "        # Avanzamos con `i` hasta encontrar un elemento mayor que el pivote\n",
    "        while i <= j and arr[i] <= pivot:\n",
    "            i += 1\n",
    "        \n",
    "        # Retrocedemos con `j` hasta encontrar un elemento menor que el pivote\n",
    "        while i <= j and arr[j] >= pivot:\n",
    "            j -= 1\n",
    "        \n",
    "        # Si `i` ha pasado `j`, terminamos la partición\n",
    "        if i > j:\n",
    "            break\n",
    "        \n",
    "        # Intercambiamos los elementos que están fuera de lugar\n",
    "        arr[i], arr[j] = arr[j], arr[i]\n",
    "    \n",
    "    # Intercambiamos el pivote con el elemento en la posición `j`\n",
    "    arr[low], arr[j] = arr[j], arr[low]\n",
    "    \n",
    "    return j  # Devolvemos el índice del pivote\n",
    "\n",
    "# Ejemplo de uso\n",
    "arr = [3, 6, 8, 10, 1, 2, 1]\n",
    "quicksort(arr, 0, len(arr) - 1)\n",
    "print(\"Arreglo ordenado:\", arr)"
   ]
  },
  {
   "cell_type": "code",
   "execution_count": 9,
   "metadata": {},
   "outputs": [
    {
     "name": "stdout",
     "output_type": "stream",
     "text": [
      "Arreglo ordenado: [5, 6, 7, 11, 12, 13]\n"
     ]
    }
   ],
   "source": [
    "# HEAPSORT\n",
    "# Fonte: ChatGPT\n",
    "\n",
    "def heapify(arr, n, i):\n",
    "    largest = i  # Inicializamos el nodo raíz como el más grande\n",
    "    left = 2 * i + 1  # Hijo izquierdo\n",
    "    right = 2 * i + 2  # Hijo derecho\n",
    "\n",
    "    # Si el hijo izquierdo es más grande que la raíz\n",
    "    if left < n and arr[left] > arr[largest]:\n",
    "        largest = left\n",
    "\n",
    "    # Si el hijo derecho es más grande que el más grande hasta ahora\n",
    "    if right < n and arr[right] > arr[largest]:\n",
    "        largest = right\n",
    "\n",
    "    # Si el más grande no es la raíz\n",
    "    if largest != i:\n",
    "        arr[i], arr[largest] = arr[largest], arr[i]  # Intercambiar\n",
    "        heapify(arr, n, largest)  # Recursivamente hacer heapify en el subárbol afectado\n",
    "\n",
    "def heapsort(arr):\n",
    "    n = len(arr)\n",
    "\n",
    "    # Construimos el max heap\n",
    "    for i in range(n // 2 - 1, -1, -1):\n",
    "        heapify(arr, n, i)\n",
    "\n",
    "    # Extraemos elementos del heap uno por uno\n",
    "    for i in range(n - 1, 0, -1):\n",
    "        arr[i], arr[0] = arr[0], arr[i]  # Mover la raíz actual al final\n",
    "        heapify(arr, i, 0)  # Llamar a heapify en el heap reducido\n",
    "\n",
    "# Ejemplo de uso\n",
    "arr = [12, 11, 13, 5, 6, 7]\n",
    "heapsort(arr)\n",
    "print(\"Arreglo ordenado:\", arr)\n"
   ]
  },
  {
   "cell_type": "code",
   "execution_count": 10,
   "metadata": {},
   "outputs": [
    {
     "name": "stdout",
     "output_type": "stream",
     "text": [
      "Arreglo ordenado: [5, 6, 7, 11, 12, 13]\n"
     ]
    }
   ],
   "source": [
    "# MERGESORT\n",
    "# Fonte: ChatGPT\n",
    "\n",
    "def merge_sort(arr):\n",
    "    if len(arr) > 1:\n",
    "        # Encuentra el punto medio del arreglo\n",
    "        mid = len(arr) // 2\n",
    "\n",
    "        # Divide el arreglo en dos mitades\n",
    "        left_half = arr[:mid]\n",
    "        right_half = arr[mid:]\n",
    "\n",
    "        # Ordena cada mitad\n",
    "        merge_sort(left_half)\n",
    "        merge_sort(right_half)\n",
    "\n",
    "        i = j = k = 0\n",
    "\n",
    "        # Une las dos mitades ordenadas en un solo arreglo\n",
    "        while i < len(left_half) and j < len(right_half):\n",
    "            if left_half[i] < right_half[j]:\n",
    "                arr[k] = left_half[i]\n",
    "                i += 1\n",
    "            else:\n",
    "                arr[k] = right_half[j]\n",
    "                j += 1\n",
    "            k += 1\n",
    "\n",
    "        # Verifica si quedan elementos en la mitad izquierda\n",
    "        while i < len(left_half):\n",
    "            arr[k] = left_half[i]\n",
    "            i += 1\n",
    "            k += 1\n",
    "\n",
    "        # Verifica si quedan elementos en la mitad derecha\n",
    "        while j < len(right_half):\n",
    "            arr[k] = right_half[j]\n",
    "            j += 1\n",
    "            k += 1\n",
    "\n",
    "# Ejemplo de uso\n",
    "arr = [12, 11, 13, 5, 6, 7]\n",
    "merge_sort(arr)\n",
    "print(\"Arreglo ordenado:\", arr)"
   ]
  },
  {
   "cell_type": "code",
   "execution_count": 70,
   "metadata": {},
   "outputs": [
    {
     "name": "stdout",
     "output_type": "stream",
     "text": [
      "Size vector:  1000\n"
     ]
    },
    {
     "data": {
      "text/plain": [
       "array([104, 437, 862, 272, 108,  73, 702,  22, 616, 123])"
      ]
     },
     "execution_count": 70,
     "metadata": {},
     "output_type": "execute_result"
    }
   ],
   "source": [
    "# vetor de 100.000 elementos preenchidos aleatoriamente,\n",
    "# Se trocou para só 1000 elementos porque o quicksort não executaba\n",
    "# Library\n",
    "import numpy as np\n",
    "from datetime import datetime\n",
    "# Semilla\n",
    "np.random.seed(42)\n",
    "\n",
    "# Create a vector with 100,000 random elements in the range 2 to 1,000\n",
    "vector_aleatorio = np.random.randint(2, 1001, size=1000)\n",
    "\n",
    "print(\"Size vector: \", len(vector_aleatorio))\n",
    "vector_aleatorio[:10] "
   ]
  },
  {
   "cell_type": "code",
   "execution_count": 71,
   "metadata": {},
   "outputs": [
    {
     "data": {
      "text/plain": [
       "[2, 3, 3, 3, 6, 6, 9, 10, 10, 11]"
      ]
     },
     "execution_count": 71,
     "metadata": {},
     "output_type": "execute_result"
    }
   ],
   "source": [
    "vector_ordenado_asc = sorted(vector_aleatorio)\n",
    "vector_ordenado_asc[:10]"
   ]
  },
  {
   "cell_type": "code",
   "execution_count": 72,
   "metadata": {},
   "outputs": [
    {
     "data": {
      "text/plain": [
       "[1000, 1000, 998, 998, 997, 997, 994, 994, 993, 991]"
      ]
     },
     "execution_count": 72,
     "metadata": {},
     "output_type": "execute_result"
    }
   ],
   "source": [
    "vector_ordenado_desc = sorted(vector_aleatorio, reverse=True)\n",
    "vector_ordenado_desc[:10]"
   ]
  },
  {
   "cell_type": "markdown",
   "metadata": {},
   "source": [
    "### Teste com o Shellsort"
   ]
  },
  {
   "cell_type": "markdown",
   "metadata": {},
   "source": [
    "#### Vetor random"
   ]
  },
  {
   "cell_type": "code",
   "execution_count": 61,
   "metadata": {},
   "outputs": [
    {
     "name": "stdout",
     "output_type": "stream",
     "text": [
      "Time average:  0:00:00.002811\n"
     ]
    }
   ],
   "source": [
    "# GAP\n",
    "gaps = generate_gaps(1000)\n",
    "# Almazena o tempo\n",
    "array_time = []\n",
    "\n",
    "for i in range(10):\n",
    "    # Initial time\n",
    "    tiempo_inicial = datetime.now()\n",
    "    shell_sort(vector_aleatorio, gaps)\n",
    "    # End time\n",
    "    tiempo_final = datetime.now()\n",
    "    diferencia_tiempo = tiempo_final - tiempo_inicial\n",
    "    array_time.append(diferencia_tiempo)\n",
    "\n",
    "print(\"Time average: \", np.mean(array_time))"
   ]
  },
  {
   "cell_type": "markdown",
   "metadata": {},
   "source": [
    "#### Vetor ordem crescente"
   ]
  },
  {
   "cell_type": "code",
   "execution_count": 62,
   "metadata": {},
   "outputs": [
    {
     "name": "stdout",
     "output_type": "stream",
     "text": [
      "Time average:  0:00:00.001219\n"
     ]
    }
   ],
   "source": [
    "# GAP\n",
    "gaps = generate_gaps(1000)\n",
    "# Almazena o tempo\n",
    "array_time = []\n",
    "\n",
    "for i in range(10):\n",
    "    # Initial time\n",
    "    tiempo_inicial = datetime.now()\n",
    "    shell_sort(vector_ordenado_asc, gaps)\n",
    "    # End time\n",
    "    tiempo_final = datetime.now()\n",
    "    diferencia_tiempo = tiempo_final - tiempo_inicial\n",
    "    array_time.append(diferencia_tiempo)\n",
    "\n",
    "print(\"Time average: \", np.mean(array_time))"
   ]
  },
  {
   "cell_type": "markdown",
   "metadata": {},
   "source": [
    "#### Vetor ordem decrescente"
   ]
  },
  {
   "cell_type": "code",
   "execution_count": 63,
   "metadata": {},
   "outputs": [
    {
     "name": "stdout",
     "output_type": "stream",
     "text": [
      "Time average:  0:00:00.001714\n"
     ]
    }
   ],
   "source": [
    "# GAP\n",
    "gaps = generate_gaps(1000)\n",
    "# Almazena o tempo\n",
    "array_time = []\n",
    "\n",
    "for i in range(10):\n",
    "    # Initial time\n",
    "    tiempo_inicial = datetime.now()\n",
    "    shell_sort(vector_ordenado_desc, gaps)\n",
    "    # End time\n",
    "    tiempo_final = datetime.now()\n",
    "    diferencia_tiempo = tiempo_final - tiempo_inicial\n",
    "    array_time.append(diferencia_tiempo)\n",
    "\n",
    "print(\"Time average: \", np.mean(array_time))"
   ]
  },
  {
   "cell_type": "markdown",
   "metadata": {},
   "source": [
    "### Teste com o Quicksort\n",
    "\n",
    "NOTA: Reinicializamos as variáveis \"vector_aleatorio\", \"vector_ordenado_asc\" e \"vector_ordenado_desc\"."
   ]
  },
  {
   "cell_type": "markdown",
   "metadata": {},
   "source": [
    "#### Vetor random"
   ]
  },
  {
   "cell_type": "code",
   "execution_count": 55,
   "metadata": {},
   "outputs": [
    {
     "name": "stdout",
     "output_type": "stream",
     "text": [
      "Time average:  0:00:00.043990\n"
     ]
    }
   ],
   "source": [
    "# Almazena o tempo\n",
    "array_time = []\n",
    "\n",
    "for i in range(10):\n",
    "    # Initial time\n",
    "    tiempo_inicial = datetime.now()\n",
    "    quicksort(vector_aleatorio, 0, len(vector_aleatorio) - 1)\n",
    "    # End time\n",
    "    tiempo_final = datetime.now()\n",
    "    diferencia_tiempo = tiempo_final - tiempo_inicial\n",
    "    array_time.append(diferencia_tiempo)\n",
    "\n",
    "print(\"Time average: \", np.mean(array_time))"
   ]
  },
  {
   "cell_type": "markdown",
   "metadata": {},
   "source": [
    "#### Vetor ordem crescente"
   ]
  },
  {
   "cell_type": "code",
   "execution_count": 56,
   "metadata": {},
   "outputs": [
    {
     "name": "stdout",
     "output_type": "stream",
     "text": [
      "Time average:  0:00:00.028637\n"
     ]
    }
   ],
   "source": [
    "# Almazena o tempo\n",
    "array_time = []\n",
    "\n",
    "for i in range(10):\n",
    "    # Initial time\n",
    "    tiempo_inicial = datetime.now()\n",
    "    quicksort(vector_ordenado_asc, 0, len(vector_ordenado_asc) - 1)\n",
    "    # End time\n",
    "    tiempo_final = datetime.now()\n",
    "    diferencia_tiempo = tiempo_final - tiempo_inicial\n",
    "    array_time.append(diferencia_tiempo)\n",
    "\n",
    "print(\"Time average: \", np.mean(array_time))"
   ]
  },
  {
   "cell_type": "markdown",
   "metadata": {},
   "source": [
    "#### Vetor ordem decrescente"
   ]
  },
  {
   "cell_type": "code",
   "execution_count": 57,
   "metadata": {},
   "outputs": [
    {
     "name": "stdout",
     "output_type": "stream",
     "text": [
      "Time average:  0:00:00.028583\n"
     ]
    }
   ],
   "source": [
    "# Almazena o tempo\n",
    "array_time = []\n",
    "\n",
    "for i in range(10):\n",
    "    # Initial time\n",
    "    tiempo_inicial = datetime.now()\n",
    "    quicksort(vector_ordenado_desc, 0, len(vector_ordenado_desc) - 1)\n",
    "    # End time\n",
    "    tiempo_final = datetime.now()\n",
    "    diferencia_tiempo = tiempo_final - tiempo_inicial\n",
    "    array_time.append(diferencia_tiempo)\n",
    "\n",
    "print(\"Time average: \", np.mean(array_time))"
   ]
  },
  {
   "cell_type": "markdown",
   "metadata": {},
   "source": [
    "### Teste com o Heapsort\n",
    "\n",
    "NOTA: Reinicializamos as variáveis \"vector_aleatorio\", \"vector_ordenado_asc\" e \"vector_ordenado_desc\"."
   ]
  },
  {
   "cell_type": "markdown",
   "metadata": {},
   "source": [
    "#### Vetor random"
   ]
  },
  {
   "cell_type": "code",
   "execution_count": 67,
   "metadata": {},
   "outputs": [
    {
     "name": "stdout",
     "output_type": "stream",
     "text": [
      "Time average:  0:00:00.009989\n"
     ]
    }
   ],
   "source": [
    "# Almazena o tempo\n",
    "array_time = []\n",
    "\n",
    "for i in range(10):\n",
    "    # Initial time\n",
    "    tiempo_inicial = datetime.now()\n",
    "    heapsort(vector_aleatorio)\n",
    "    # End time\n",
    "    tiempo_final = datetime.now()\n",
    "    diferencia_tiempo = tiempo_final - tiempo_inicial\n",
    "    array_time.append(diferencia_tiempo)\n",
    "\n",
    "print(\"Time average: \", np.mean(array_time))"
   ]
  },
  {
   "cell_type": "markdown",
   "metadata": {},
   "source": [
    "#### Vetor ordem crescente"
   ]
  },
  {
   "cell_type": "code",
   "execution_count": 68,
   "metadata": {},
   "outputs": [
    {
     "name": "stdout",
     "output_type": "stream",
     "text": [
      "Time average:  0:00:00.007916\n"
     ]
    }
   ],
   "source": [
    "# Almazena o tempo\n",
    "array_time = []\n",
    "\n",
    "for i in range(10):\n",
    "    # Initial time\n",
    "    tiempo_inicial = datetime.now()\n",
    "    heapsort(vector_ordenado_asc)\n",
    "    # End time\n",
    "    tiempo_final = datetime.now()\n",
    "    diferencia_tiempo = tiempo_final - tiempo_inicial\n",
    "    array_time.append(diferencia_tiempo)\n",
    "\n",
    "print(\"Time average: \", np.mean(array_time))"
   ]
  },
  {
   "cell_type": "markdown",
   "metadata": {},
   "source": [
    "#### Vetor ordem decrescente"
   ]
  },
  {
   "cell_type": "code",
   "execution_count": 69,
   "metadata": {},
   "outputs": [
    {
     "name": "stdout",
     "output_type": "stream",
     "text": [
      "Time average:  0:00:00.008632\n"
     ]
    }
   ],
   "source": [
    "# Almazena o tempo\n",
    "array_time = []\n",
    "\n",
    "for i in range(10):\n",
    "    # Initial time\n",
    "    tiempo_inicial = datetime.now()\n",
    "    heapsort(vector_ordenado_desc)\n",
    "    # End time\n",
    "    tiempo_final = datetime.now()\n",
    "    diferencia_tiempo = tiempo_final - tiempo_inicial\n",
    "    array_time.append(diferencia_tiempo)\n",
    "\n",
    "print(\"Time average: \", np.mean(array_time))"
   ]
  },
  {
   "cell_type": "markdown",
   "metadata": {},
   "source": [
    "### Teste com o Mergesort\n",
    "\n",
    "NOTA: Reinicializamos as variáveis \"vector_aleatorio\", \"vector_ordenado_asc\" e \"vector_ordenado_desc\"."
   ]
  },
  {
   "cell_type": "markdown",
   "metadata": {},
   "source": [
    "#### Vetor random"
   ]
  },
  {
   "cell_type": "code",
   "execution_count": 73,
   "metadata": {},
   "outputs": [
    {
     "name": "stdout",
     "output_type": "stream",
     "text": [
      "Time average:  0:00:00.006366\n"
     ]
    }
   ],
   "source": [
    "# Almazena o tempo\n",
    "array_time = []\n",
    "\n",
    "for i in range(10):\n",
    "    # Initial time\n",
    "    tiempo_inicial = datetime.now()\n",
    "    merge_sort(vector_aleatorio)\n",
    "    # End time\n",
    "    tiempo_final = datetime.now()\n",
    "    diferencia_tiempo = tiempo_final - tiempo_inicial\n",
    "    array_time.append(diferencia_tiempo)\n",
    "\n",
    "print(\"Time average: \", np.mean(array_time))"
   ]
  },
  {
   "cell_type": "markdown",
   "metadata": {},
   "source": [
    "#### Vetor ordem crescente"
   ]
  },
  {
   "cell_type": "code",
   "execution_count": 74,
   "metadata": {},
   "outputs": [
    {
     "name": "stdout",
     "output_type": "stream",
     "text": [
      "Time average:  0:00:00.003989\n"
     ]
    }
   ],
   "source": [
    "# Almazena o tempo\n",
    "array_time = []\n",
    "\n",
    "for i in range(10):\n",
    "    # Initial time\n",
    "    tiempo_inicial = datetime.now()\n",
    "    merge_sort(vector_ordenado_asc)\n",
    "    # End time\n",
    "    tiempo_final = datetime.now()\n",
    "    diferencia_tiempo = tiempo_final - tiempo_inicial\n",
    "    array_time.append(diferencia_tiempo)\n",
    "\n",
    "print(\"Time average: \", np.mean(array_time))"
   ]
  },
  {
   "cell_type": "markdown",
   "metadata": {},
   "source": [
    "#### Vetor ordem decrescente"
   ]
  },
  {
   "cell_type": "code",
   "execution_count": 75,
   "metadata": {},
   "outputs": [
    {
     "name": "stdout",
     "output_type": "stream",
     "text": [
      "Time average:  0:00:00.002687\n"
     ]
    }
   ],
   "source": [
    "# Almazena o tempo\n",
    "array_time = []\n",
    "\n",
    "for i in range(10):\n",
    "    # Initial time\n",
    "    tiempo_inicial = datetime.now()\n",
    "    merge_sort(vector_ordenado_desc)\n",
    "    # End time\n",
    "    tiempo_final = datetime.now()\n",
    "    diferencia_tiempo = tiempo_final - tiempo_inicial\n",
    "    array_time.append(diferencia_tiempo)\n",
    "\n",
    "print(\"Time average: \", np.mean(array_time))"
   ]
  },
  {
   "cell_type": "markdown",
   "metadata": {},
   "source": [
    "| Algoritmo | Vetor random | Vetor ordenado crescente | Vetor ordenado decrescente|\n",
    "|-----------|-----------|-----------|-----------|\n",
    "| Shellsort    | 00.002811 s   | 00.001219 s    | 00.001714 s    |\n",
    "| Quicksort    | 00.043990 s    | 00.028637 s    | 00.028583 s    |\n",
    "| Heapsort    | 00.009989 s    | 00.007916 s    | 00.008632 s    |\n",
    "| Mergesort    | 00.006366 s    | 00.003989 s    | 00.002687 s   |\n"
   ]
  },
  {
   "cell_type": "markdown",
   "metadata": {},
   "source": [
    "NOTA: A quantidade do array teve que ser reduzida para apenas 1.000 elementos porque o quicksort não foi executado nem uma vez.\n",
    "\n",
    "Comente as questões a seguir:\n",
    "\n",
    "\n",
    "Qual desses vc considera que seria o melhor algoritmo n log n?\n",
    "\n",
    "- O melhor de acordo com os tempos que obtivemos nesses testes seria o Shellsort.\n",
    "\n",
    "Considere diferentes pivôs no Quicksort, houve alguma diferença no tempo?\n",
    "\n",
    "- Sim, varia dependendo da escolha do pivô. A escolha do pivô influencia a eficiência do algoritmo\n",
    "\n",
    "Considere diferentes valores h no Shellsort, houve alguma diferença no tempo?\n",
    "\n",
    "- Sim, a escolha dos valores de h no Shellsort pode ter um impacto significativo no tempo de execução do algoritmo. O desempenho do Shellsort é fortemente influenciado pela escolha desses valores de gap."
   ]
  }
 ],
 "metadata": {
  "kernelspec": {
   "display_name": "Python 3",
   "language": "python",
   "name": "python3"
  },
  "language_info": {
   "codemirror_mode": {
    "name": "ipython",
    "version": 3
   },
   "file_extension": ".py",
   "mimetype": "text/x-python",
   "name": "python",
   "nbconvert_exporter": "python",
   "pygments_lexer": "ipython3",
   "version": "3.10.12"
  }
 },
 "nbformat": 4,
 "nbformat_minor": 2
}

{
 "cells": [
  {
   "cell_type": "markdown",
   "metadata": {},
   "source": [
    "# AULA2: Exercício teórico análise de algoritmos recursivos"
   ]
  },
  {
   "cell_type": "markdown",
   "metadata": {},
   "source": [
    "## 1. Resolva a seguinte recorrência por substituição:\n",
    "\n",
    "T(1) = 1\n",
    "\n",
    "T(n) = 2T (n/2) + n (para n > 1)"
   ]
  },
  {
   "cell_type": "markdown",
   "metadata": {},
   "source": [
    "SOLUÇÃO: \n",
    "* Reference: https://www.youtube.com/watch?v=W4zD3LVPQyA&list=PLncEdvQ20-mgGanwuFczm-4IwIdIcIiha&index=18"
   ]
  },
  {
   "cell_type": "markdown",
   "metadata": {},
   "source": [
    "* Chutar: $\\quad T(n) \\quad é \\quad 𝑂(n^2) \\quad \\Rightarrow \\quad T(n) \\leq cn^2$\n",
    "* Indução\n",
    "    * Base: $ n=1$ sabendo que: $T(1) = 1 = c(1^2) \\quad \\Rightarrow \\quad c = 1$\n",
    "\n",
    "        Caso base vale si:  $\\quad c \\geq 1 $\n",
    "\n",
    "    * Hipotesis: $ T(k) \\leq ck^2 $ para todo $ 1 \\leq k < n $\n",
    "        \n",
    "        Pela definição do problema sabemos: $\\quad T(n)=2T(\\cfrac{n}{2}) + n $\n",
    "\n",
    "        Para usar T(k) em T(n/2) deve ser verdade que:  $\\quad \\cfrac{n}{2} < n $ como $n > 1$ se cumple. \n",
    "        \n",
    "        Por hipótese podemos dizer que: $ \\quad T(\\cfrac{n}{2}) \\leq c(\\cfrac{n}{2})^2 ≃ c\\cfrac{n^2}{4} $\n",
    "\n",
    "    * Problema geral:\n",
    "\n",
    "        $ T(n) = 2T(\\cfrac{n}{2}) + n  \\leq 2(c\\cfrac{n^2}{4}) + n = c\\cfrac{n^2}{2} + n $\n",
    "\n",
    "        Agora temos que chegar a essa desigualdade: $ T(n) \\leq cn^2 $\n",
    "\n",
    "        $ T(n) \\leq c\\cfrac{n^2}{2} + n \\stackrel{?}{\\leq} cn^2 $\n",
    "\n",
    "        $ c\\cfrac{n^2}{2} + n \\leq cn^2 \\quad\\quad \\Rightarrow \\quad\\quad n \\leq c\\cfrac{n^2}{2} \\quad\\quad ou  \\quad\\quad  1 \\leq c\\cfrac{n}{2} \\quad\\quad ou  \\quad\\quad  c \\geq \\cfrac{2}{n}  $\n",
    "\n",
    "        Nós usamos: $ \\quad c \\geq \\cfrac{2}{n} $\n",
    "        \n",
    "        $ \\quad c \\geq \\cfrac{2}{n}  \\quad\\quad \\Rightarrow  \\quad\\quad \\cfrac{2}{n} < 2 \\quad\\quad \\forall \\quad\\quad n > 1 \\quad\\quad ate \\quad\\quad c \\geq 2$ \n",
    "\n",
    "        Resposta: \n",
    "\n",
    "        $ \\boxed{ T(n)  \\quad é \\quad O(n^2) \\quad\\quad com \\quad c = 2 \\quad\\quad e \\quad\\quad n_0 = 1}$\n"
   ]
  },
  {
   "cell_type": "markdown",
   "metadata": {},
   "source": [
    "## 2. Aplique o teorema mestre nas seguintes equações de recorrência:"
   ]
  },
  {
   "cell_type": "markdown",
   "metadata": {},
   "source": [
    "SOLUÇÂO:\n",
    "    \n",
    "* Reference: https://www.youtube.com/watch?v=6FcHxGcZnIQ\n",
    "\n",
    "* **a) T(n) = 4T(n/2) + n**\n",
    "\n",
    "   Teorema master: $ T(n) = aT(\\cfrac{n}{b}) + \\theta(n^k)$\n",
    "\n",
    "   $\\Rightarrow  a=4 \\quad e \\quad b=2 \\quad e \\quad k=1$\n",
    "\n",
    "   $\\Rightarrow  4 > 2^1 $\n",
    "\n",
    "   $ \\boxed{Resposta: T(n)=\\theta(n\\log_{2}(4))}$\n",
    "\n",
    "* **b) T(n) = 4T(n/2) + n^2**\n",
    "\n",
    "   Teorema master: $ T(n) = aT(\\cfrac{n}{b}) + \\theta(n^k)$\n",
    "\n",
    "   $\\Rightarrow  a=4 \\quad e \\quad b=2 \\quad e \\quad k=2$\n",
    "\n",
    "   $\\Rightarrow  4 = 2^2 $\n",
    "\n",
    "   $ \\boxed{Resposta: T(n)=\\theta(n^2\\log_{}(n))}$\n",
    "\n",
    "* **c) T(n) = 4T(n/2) + n^3**\n",
    "\n",
    "   Teorema master: $ T(n) = aT(\\cfrac{n}{b}) + \\theta(n^k)$\n",
    "\n",
    "   $\\Rightarrow  a=4 \\quad e \\quad b=2 \\quad e \\quad k=3$\n",
    "\n",
    "   $\\Rightarrow  4 < 2^3 $\n",
    "\n",
    "   $ \\boxed{Resposta: T(n)=\\theta(n^3)}$"
   ]
  },
  {
   "cell_type": "markdown",
   "metadata": {},
   "source": [
    "## 3. O Teorema Mestre pode ser aplicado a recorrência\n",
    "\n",
    "T(n) = 4T( n/2 ) +n^2 log n ? Justifique a sua resposta."
   ]
  },
  {
   "cell_type": "markdown",
   "metadata": {},
   "source": [
    "SOLUÇÃO\n",
    "\n",
    "* Reference: https://www.youtube.com/watch?v=GKT7dGe4hJI\n",
    "\n",
    "Dada:\n",
    "\n",
    "$ T(n) = 4T\\left(\\frac{n}{2}\\right) + n^2 \\log n $\n",
    "\n",
    "O Teorema Mestre se aplica a recorrências da forma: $ T(n) = aT\\left(\\frac{n}{b}\\right) + f(n) $\n",
    "\n",
    "onde $ a \\geq 1 $, $ b > 1 $, e $ f(n) $ é uma função assintótica.\n",
    "\n",
    "Para esta recorrência:\n",
    "\n",
    "- $ a = 4 $\n",
    "- $ b = 2 $\n",
    "- $ f(n) = n^2 \\log n $\n",
    "\n",
    "Primeiro, calculamos $ \\log_b a $:\n",
    "\n",
    "$ \\Rightarrow \\log_b a = \\log_2 4 = 2 $\n",
    "\n",
    "Portanto, comparamos $ f(n) $ con $ n^{\\log_b a} \\Rightarrow n^2 $.\n",
    "\n",
    "Do teorema master sabemos:\n",
    "\n",
    "- **Caso 1**: Se $ f(n) = O(n^c) $ onde $ c < \\log_b a $, então $ T(n) = \\Theta(n^{\\log_b a}) $.\n",
    "- **Caso 2**: Se $ f(n) = \\Theta(n^c \\log^k n) $ donde $ c = \\log_b a $, então $ T(n) = \\Theta(n^c \\log^{k+1} n) $.\n",
    "- **Caso 3**: Se $ f(n) = \\Omega(n^c) $ onde $ c > \\log_b a $ y $ af(n/b) \\leq kf(n) $ para alguém $ k < 1 $, entonces $ T(n) = \\Theta(f(n)) $.\n",
    "\n",
    "Aqui, $ f(n) = n^2 \\log n $ tem a forma $ \\Theta(n^2 \\log n) $, e $ n^2 \\log n $ é $ \\Theta(n^2 \\ registro n) $. Isso corresponde ao **Caso 2**, onde $ c = \\log_b a = 2 $ e $ k = 1 $.\n",
    "\n",
    "Portanto, de acordo com o Teorema Mestre:\n",
    "\n",
    "$ T(n) = \\Theta(n^2 \\log^2 n) $\n",
    "\n",
    "$ \\boxed{Resposta:  T(n) = 4T(n/2) + n^2 \\log n \\quad e \\quad  \\Theta(n^2 \\log^2 n) }$."
   ]
  },
  {
   "cell_type": "markdown",
   "metadata": {},
   "source": [
    "## 4. Demonstre usando indução que, para todos os números naturais x e n ≥ 1, (x^n)−1 é divisível por x − 1."
   ]
  },
  {
   "cell_type": "markdown",
   "metadata": {},
   "source": [
    "SOLUÇÃO:\n",
    "\n",
    "* Reference: http://www.decom.ufop.br/marco/site_media/uploads/pcc104/05_aula_05.pdf\n",
    "\n",
    "* Passo Base: \n",
    "\n",
    "    * Verificar $ n = 1 $.\n",
    "    * $(x^1) - 1 = x - 1$\n",
    "    * $ \\Rightarrow \\frac{x-1}{x-1}=1$ então é divisível para $ n=1 $\n",
    "\n",
    "* Passo Hipótese indutiva:\n",
    "\n",
    "    * Para um valor qualquer $ n > 1 $, supomos que $ x^n − 1 $ seja divisível por $ x − 1 $, para todo $ x > 0 $ natural.\n",
    "    * Isso significa que existe um número inteiro \\( q_k \\) tal que: $ x^k - 1 = (x - 1) \\cdot q_k $\n",
    "\n",
    "* Passo Indutivo\n",
    "\n",
    "    Agora, precisamos provar que a proposição também é verdadeira para $ n = k + 1 $, ou seja, precisamos mostrar que:    $ x^{k+1} - 1 \\text{ é divisível por } x - 1 $\n",
    "\n",
    "    $ \\Rightarrow x^{k+1} - 1 = x \\cdot x^k - 1 $\n",
    "\n",
    "    $ \\Rightarrow x^{k+1} - 1 = x \\cdot x^k - x + x - 1 \\quad\\quad$ Adicionamos e subtraímos $ x $por conveniência.\n",
    "\n",
    "    $ \\Rightarrow x^{k+1} - 1 = x(x^k - 1) + (x - 1) $\n",
    "\n",
    "    $ \\Rightarrow x^{k+1} - 1 = x \\cdot [(x - 1) \\cdot q_k] + (x - 1) \\quad\\quad $ Substituímos a expressão $ x^k - 1 $ pela nossa hipótese de indução $ (x - 1)\\cdot q_k $\n",
    "\n",
    "    $ \\Rightarrow x^{k+1} - 1 = (x - 1) \\cdot (x \\cdot q_k + 1) \\quad\\quad $ Fatoramos\n",
    "\n",
    "\n",
    "    $ \\boxed{Resposta:  Portanto,\\quad\\ x^{k+1} - 1 \\quad\\quad é \\quad divisível\\quad por \\quad x - 1 }$."
   ]
  },
  {
   "cell_type": "markdown",
   "metadata": {},
   "source": [
    "## 5. Use indução para resolver a seguinte recorrência:\n",
    "\n",
    "T(n) = 2 + T(n-1)\n",
    "\n",
    "T(1) = 1"
   ]
  },
  {
   "cell_type": "markdown",
   "metadata": {},
   "source": [
    "* Chutar: $\\quad T(n) \\quad é \\quad 𝑂(n^2) \\quad \\Rightarrow \\quad T(n) \\leq cn^2$\n",
    "* Indução\n",
    "    * Base: $ n=1$ sabendo que: $T(1) = 1 = c(1^2) \\quad \\Rightarrow \\quad c = 1$\n",
    "\n",
    "        Caso base vale si:  $\\quad c \\geq 1 $\n",
    "\n",
    "    * Hipotesis: $ T(k) \\leq ck^2 $ para todo $ 1 \\leq k < n $\n",
    "        \n",
    "        Pela definição do problema sabemos: $\\quad T(n)=2 + T(n-1) $\n",
    "\n",
    "        Para usar T(k) em T(n-1) deve ser verdade que:  $\\quad n-1 < n $ como $n > 1$ se cumple para todo $n$. \n",
    "        \n",
    "        Por hipótese podemos dizer que: $ \\quad T(n-1) \\leq c(n-1)^2 = c(n^2 - n + 1) $\n",
    "\n",
    "    * Problema geral:\n",
    "\n",
    "        $ T(n) = 2 + T(n-1)  \\leq 2 + c(n^2 - n + 1) = cn^2 + cn + c +2 $\n",
    "\n",
    "        Agora temos que chegar a essa desigualdade: $ T(n) \\leq cn^2 $\n",
    "\n",
    "        $ T(n) \\leq cn^2 + cn + c +2 \\stackrel{?}{\\leq} cn^2 $\n",
    "\n",
    "        "
   ]
  }
 ],
 "metadata": {
  "kernelspec": {
   "display_name": "Python 3",
   "language": "python",
   "name": "python3"
  },
  "language_info": {
   "codemirror_mode": {
    "name": "ipython",
    "version": 3
   },
   "file_extension": ".py",
   "mimetype": "text/x-python",
   "name": "python",
   "nbconvert_exporter": "python",
   "pygments_lexer": "ipython3",
   "version": "3.10.12"
  }
 },
 "nbformat": 4,
 "nbformat_minor": 2
}

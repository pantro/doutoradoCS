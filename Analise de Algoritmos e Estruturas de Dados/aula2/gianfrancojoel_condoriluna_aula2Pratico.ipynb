{
 "cells": [
  {
   "cell_type": "markdown",
   "metadata": {},
   "source": [
    "# Aula 02 - Exercício prático análise de algoritmos recursivos"
   ]
  },
  {
   "cell_type": "markdown",
   "metadata": {},
   "source": [
    "## 1) (1,0) Proponha um algoritmo para busca sequencial e outro para busca binária.\n",
    "### a) Execute ambas as funções para encontrar o número 9 e 99.999 num vetor aleatório de 100.000 elementos (use o mesmo vetor em ambos os códigos).\n",
    "### b) Verifique qual dos dois executou mais rápido (use uma time() function).\n",
    "### c) Faça a análise de complexidade de tempo de ambos os algoritmos."
   ]
  },
  {
   "cell_type": "markdown",
   "metadata": {},
   "source": [
    "### SOLUÇÃO:\n",
    "\n",
    "Entendo que nesse problema o importante é o tempo que leva para uma busca sequencial e uma busca binária, então baseado nessa hipótese acho que deveria criar um vetor ordenado de 1 a 100.000 pois não faria sentido criar um vetor aleatório e depois retornar para ordenar esse vetor para que depois simplesmente se pase para os algoritmos de busca. \n",
    "\n",
    "O tempo que leve para ordenar seria o mesmo para ambos algoritmos, portanto, poderia fornecer o vector ordenado para ambos algoritmos e comparar seu tempo.\n",
    "\n",
    "Também por ter o vetor ordenado eu teria certeza que o número que está na posição 9 e 99999 são iguais para ambos os algoritmos.\n",
    "\n",
    "Etapas de resolução do problema:\n",
    "\n",
    "* Crie um vetor ordenado de 1 a 100.000.\n",
    "* Crie um algoritmo de busca sequencial.\n",
    "* Crie um algoritmo de busca binária."
   ]
  },
  {
   "cell_type": "code",
   "execution_count": 18,
   "metadata": {},
   "outputs": [],
   "source": [
    "#Python version 3.10.12\n",
    "\n",
    "import time\n",
    "\n",
    "# Gerando um vetor aleatório de 100.000 elementos\n",
    "tamanho_vetor = 100000\n",
    "vetor = list(range(1, tamanho_vetor+1))\n",
    "\n",
    "# Algoritmo de busca sequencial\n",
    "def busca_sequencial(vetor, alvo):\n",
    "    for i in range(len(vetor)):\n",
    "        if vetor[i] == alvo:\n",
    "            return i\n",
    "    return -1\n",
    "\n",
    "# Algoritmo de busca binária\n",
    "def busca_binaria(vetor, alvo):\n",
    "    p_esquerdo, p_direito = 0, len(vetor) - 1\n",
    "    while p_esquerdo <= p_direito:\n",
    "        p_meio = (p_esquerdo + p_direito) // 2\n",
    "        if vetor[p_meio] == alvo:\n",
    "            return p_meio\n",
    "        elif vetor[p_meio] < alvo:\n",
    "            p_esquerdo = p_meio + 1\n",
    "        else:\n",
    "            p_direito = p_meio - 1\n",
    "    return -1"
   ]
  },
  {
   "cell_type": "code",
   "execution_count": 19,
   "metadata": {},
   "outputs": [],
   "source": [
    "\n",
    "# Números a serem buscados\n",
    "numeros_para_buscar = [9, 99999]\n",
    "\n",
    "# Executando e medindo o tempo para busca sequencial\n",
    "tempos_sequencial = {}\n",
    "for numero in numeros_para_buscar:\n",
    "    t_inicio = time.time()\n",
    "    busca_sequencial(vetor, numero)\n",
    "    tempos_sequencial[numero] = time.time() - t_inicio\n",
    "\n",
    "# Executando e medindo o tempo para busca binária\n",
    "tempos_binaria = {}\n",
    "for numero in numeros_para_buscar:\n",
    "    t_inicio = time.time()\n",
    "    busca_binaria(vetor, numero)\n",
    "    tempos_binaria[numero] = time.time() - t_inicio\n"
   ]
  },
  {
   "cell_type": "code",
   "execution_count": 20,
   "metadata": {},
   "outputs": [
    {
     "name": "stdout",
     "output_type": "stream",
     "text": [
      "Algoritmo de busca sequencial\n",
      "* O tempo que levou para encontrar o número 9 foi     :  3.814697265625e-06\n",
      "* O tempo que levou para encontrar o número 99.999 foi:  0.008069276809692383\n",
      "Algoritmo de busca binária\n",
      "* O tempo que levou para encontrar o número 9 foi     :  9.5367431640625e-06\n",
      "* O tempo que levou para encontrar o número 99.999 foi:  4.291534423828125e-06\n"
     ]
    }
   ],
   "source": [
    "print(\"Algoritmo de busca sequencial\")\n",
    "print(\"* O tempo que levou para encontrar o número 9 foi     : \",tempos_sequencial[9])\n",
    "print(\"* O tempo que levou para encontrar o número 99.999 foi: \",tempos_sequencial[99999])\n",
    "print(\"Algoritmo de busca binária\")\n",
    "print(\"* O tempo que levou para encontrar o número 9 foi     : \",tempos_binaria[9])\n",
    "print(\"* O tempo que levou para encontrar o número 99.999 foi: \",tempos_binaria[99999])"
   ]
  },
  {
   "cell_type": "markdown",
   "metadata": {},
   "source": [
    "#### Complexidade do algoritmo de busca sequencial\n",
    "\n",
    "`  for i in range(len(vetor)):`        -> O(n)\n",
    "\n",
    "`  if vetor[i] == alvo:`            -> O(1)\n",
    "\n",
    "`  return i`                        -> O(1)\n",
    "\n",
    "`  return -1`                        -> O(1)\n",
    "\n",
    "$ \\boxed{ Resposta: \\quad O(n)}$\n",
    "\n",
    "#### Complexidade do algoritmo de busca binária\n",
    "* Revendo o código podemos ver que em cada iteração ele será convertido em $\\cfrac{n}{2}$, $\\cfrac{n}{4}$, $\\cfrac{n}{8}$ e assim por diante até chegando a 1.\n",
    "* Então o número de iterações necessárias para reduzir o tamanho do vetor para 1 é $\\log_{2}(n)$\n",
    "\n",
    "$ \\boxed{ Resposta: \\quad O(\\log_{}(n))}$"
   ]
  },
  {
   "cell_type": "markdown",
   "metadata": {},
   "source": [
    "### Conclusões:\n",
    "* O algoritmo de busca sequencial é mais rápido para buscar um número que está em uma posição próxima ao início mas é muito caro buscar um número que está quase no final do vetor, mais longe mais tempo.\n",
    "* O algoritmo de busca binária é mais lento que o algoritmo de busca sequencial para encontrar um elemento que esteja próximo do início do vetor, mas é muito mais rápido para encontrar um elemento que esteja próximo do final do vetor.\n",
    "* Com isso podemos concluir que o custo de tempo do algoritmo de busca binária depende logaritmicamente da quantidade de elementos que o vetor possui, pois não há muita diferença entre buscar um elemento independente da posição em que ele se encontra, algo que é não acontece com o algoritmo sequencial que depende muito da quantidade de elementos do vetor e da posição em que se encontra o elemento a ser pesquisado."
   ]
  }
 ],
 "metadata": {
  "kernelspec": {
   "display_name": "Python 3",
   "language": "python",
   "name": "python3"
  },
  "language_info": {
   "codemirror_mode": {
    "name": "ipython",
    "version": 3
   },
   "file_extension": ".py",
   "mimetype": "text/x-python",
   "name": "python",
   "nbconvert_exporter": "python",
   "pygments_lexer": "ipython3",
   "version": "3.10.12"
  }
 },
 "nbformat": 4,
 "nbformat_minor": 2
}
